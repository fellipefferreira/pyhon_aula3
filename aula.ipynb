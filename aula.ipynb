{
 "cells": [
  {
   "cell_type": "code",
   "execution_count": null,
   "metadata": {},
   "outputs": [],
   "source": [
    "lista = [1,5,7]\n",
    "\n",
    "def media(lista):\n",
    "    m = lista.mean()\n",
    "    return m"
   ]
  },
  {
   "cell_type": "code",
   "execution_count": null,
   "metadata": {},
   "outputs": [],
   "source": [
    "# calculo da media de lista \n",
    "\n",
    "def calcular_media(lista):\n",
    "    return sum(lista) / len(lista)\n",
    "\n",
    "numeros = [10,20,30,40,50]\n",
    "media = calcular_media(numeros)\n",
    "print(\"A media dos numeros é\", media)"
   ]
  },
  {
   "cell_type": "code",
   "execution_count": null,
   "metadata": {},
   "outputs": [],
   "source": [
    "# Encontrando o maior valor dentro da lista\n",
    "def maior(lista):\n",
    "    return max(lista)\n",
    "\n",
    "numeros = [1,2,3,4,5]\n",
    "maximo = maior(numeros)\n",
    "print(maximo)"
   ]
  },
  {
   "cell_type": "code",
   "execution_count": null,
   "metadata": {},
   "outputs": [],
   "source": [
    "# Verificando se todos os elementos de uma lista são positivos\n",
    "def positivo_negativo(lista):\n",
    "    positivos = [num for num in lista if num > 0]\n",
    "    negativos = [num for num in lista if num < 0]\n",
    "    return positivos, negativos\n",
    "\n",
    "numeros = [10,-20,3,40,50,-3,7,8]\n",
    "positivos, negativos = positivo_negativo(numeros)\n",
    "print(positivos)\n",
    "print(negativos)"
   ]
  },
  {
   "cell_type": "code",
   "execution_count": null,
   "metadata": {},
   "outputs": [],
   "source": [
    "lista = [10,2,7,9,10,22,5]\n",
    "\n",
    "def media_soma(lista):\n",
    "    media = sum(lista) / len(lista)\n",
    "    soma = sum(lista)\n",
    "    return media, soma\n",
    "\n",
    "numeros = [10,2,7,9,10,22,5]\n",
    "media, soma = media_soma(numeros)\n",
    "print(media)\n",
    "print(soma)"
   ]
  },
  {
   "cell_type": "code",
   "execution_count": null,
   "metadata": {},
   "outputs": [],
   "source": [
    "def min_max(lista):\n",
    "    minimo = min(lista)\n",
    "    maximo = max(lista)\n",
    "    return minimo, maximo\n",
    "\n",
    "numeros = [10,2,7,9,10,22,5]\n",
    "minimo, maximo = min_max(lista)\n",
    "print(minimo)\n",
    "print(maximo)\n",
    "\n"
   ]
  },
  {
   "cell_type": "code",
   "execution_count": null,
   "metadata": {},
   "outputs": [],
   "source": [
    "# retorne a min, max, soma e media \n",
    "\n",
    "def quatro(lista):\n",
    "    minimo = min(lista)\n",
    "    maximo = max(lista)\n",
    "    soma = sum(lista)\n",
    "    media = sum(lista) / len(lista)\n",
    "    return minimo, maximo, soma, media\n",
    "\n",
    "numbers = [10,2,7,9,10,22,5]\n",
    "minimo, maximo, soma, media = quatro(numbers)\n",
    "print(minimo)\n",
    "print(maximo)\n",
    "print(soma)\n",
    "print(media)"
   ]
  },
  {
   "cell_type": "code",
   "execution_count": null,
   "metadata": {},
   "outputs": [],
   "source": [
    "def soma_quadrado(lista):\n",
    "    return sum(num**2 for num in lista)\n",
    "\n",
    "numbers = [10,2,7,9,10,22,5]\n",
    "result = soma_quadrado(numbers)\n",
    "print(result)\n"
   ]
  },
  {
   "cell_type": "code",
   "execution_count": null,
   "metadata": {},
   "outputs": [],
   "source": [
    "# Conte quantas vezes um determinado elemento aparece em uma lista\n",
    "\n",
    "def contar(lista,elemento):\n",
    "    return lista.count(elemento)\n",
    "\n",
    "numeros = [1,2,3,4,5,6]\n",
    "elemento = 3\n",
    "ocorrencias = contar(numeros,elemento)\n",
    "print(\"O elemento\", elemento, \"aparece\", ocorrencias, \"vezes na lista\")\n",
    "\n",
    "\n"
   ]
  },
  {
   "cell_type": "code",
   "execution_count": null,
   "metadata": {},
   "outputs": [],
   "source": [
    "# Inverter lista\n",
    "\n",
    "def inverter_lista(lista):\n",
    "    return lista[::-1]\n",
    "\n",
    "numeros = [1,2,3,4,5]\n",
    "lista_invertida = inverter_lista(numeros)\n",
    "print(\"Lista invertida\", lista_invertida)"
   ]
  },
  {
   "cell_type": "code",
   "execution_count": null,
   "metadata": {},
   "outputs": [],
   "source": [
    "# verifique se uma lista está ordenada de forma crescente\n",
    "\n",
    "def esta_ordenada_crescente(lista):\n",
    "    return lista == sorted(lista)\n",
    "\n",
    "numeros = [1,2,3,4,5]\n",
    "esta_ordenada = esta_ordenada_crescente(numeros)\n",
    "print(\"A lista está ordenada de forma crescente ?\", esta_ordenada)\n"
   ]
  },
  {
   "cell_type": "code",
   "execution_count": null,
   "metadata": {},
   "outputs": [],
   "source": [
    "# remover valores duplicados de uma lista \n",
    "\n",
    "def remover_duplicados(lista):\n",
    "    return list(set(lista))\n",
    "\n",
    "numeros = [1,1,3,4,5,5,6]\n",
    "sem_duplicados = remover_duplicados(numeros)\n",
    "print(\"Lista elementos duplicados\", sem_duplicados)\n"
   ]
  },
  {
   "cell_type": "code",
   "execution_count": null,
   "metadata": {},
   "outputs": [],
   "source": [
    "pip install pandas"
   ]
  },
  {
   "cell_type": "code",
   "execution_count": 1,
   "metadata": {},
   "outputs": [],
   "source": [
    "import pandas as pd\n"
   ]
  },
  {
   "cell_type": "code",
   "execution_count": 2,
   "metadata": {},
   "outputs": [],
   "source": [
    "dados = pd.read_csv(r'C:\\Users\\logonrmlocal\\Desktop\\pyhon_aula3\\manutencao_preditiva.csv')\n"
   ]
  },
  {
   "cell_type": "code",
   "execution_count": null,
   "metadata": {},
   "outputs": [],
   "source": [
    "dados"
   ]
  },
  {
   "cell_type": "code",
   "execution_count": null,
   "metadata": {},
   "outputs": [],
   "source": [
    "\n",
    "x = dados[['UDI']]\n",
    "y1 = dados[['Temperatura Ar [K]']]\n",
    "y2 = dados[['Temperatura Processo [K]']]\n"
   ]
  },
  {
   "cell_type": "code",
   "execution_count": null,
   "metadata": {},
   "outputs": [],
   "source": [
    "x, y"
   ]
  },
  {
   "cell_type": "code",
   "execution_count": null,
   "metadata": {},
   "outputs": [],
   "source": [
    "pip install matplotlib"
   ]
  },
  {
   "cell_type": "code",
   "execution_count": null,
   "metadata": {},
   "outputs": [],
   "source": [
    "import matplotlib.pyplot as plt\n",
    "\n",
    "plt.plot(x,y1,x,y2)\n",
    "plt.show()"
   ]
  },
  {
   "cell_type": "code",
   "execution_count": null,
   "metadata": {},
   "outputs": [],
   "source": [
    "dados_filtrados = dados.head(5)\n",
    "\n",
    "rotacao = dados_filtrados[['Velocidade Rotacao [rpm]']] \n",
    "torque = dados_filtrados[['Torque [Nm]']]\n",
    "\n",
    "\n"
   ]
  },
  {
   "cell_type": "code",
   "execution_count": null,
   "metadata": {},
   "outputs": [],
   "source": [
    "torque"
   ]
  },
  {
   "cell_type": "code",
   "execution_count": null,
   "metadata": {},
   "outputs": [],
   "source": [
    "rotacao"
   ]
  },
  {
   "cell_type": "code",
   "execution_count": null,
   "metadata": {},
   "outputs": [],
   "source": [
    "dados_novo = dados_filtrados[['Torque [Nm]','Velocidade Rotacao [rpm]']].values\n",
    "dados_novo"
   ]
  },
  {
   "cell_type": "code",
   "execution_count": null,
   "metadata": {},
   "outputs": [],
   "source": [
    "pip install numpy\n"
   ]
  },
  {
   "cell_type": "code",
   "execution_count": 15,
   "metadata": {},
   "outputs": [
    {
     "ename": "NameError",
     "evalue": "name 'dados_novo' is not defined",
     "output_type": "error",
     "traceback": [
      "\u001b[1;31m---------------------------------------------------------------------------\u001b[0m",
      "\u001b[1;31mNameError\u001b[0m                                 Traceback (most recent call last)",
      "Cell \u001b[1;32mIn[15], line 2\u001b[0m\n\u001b[0;32m      1\u001b[0m \u001b[39mimport\u001b[39;00m \u001b[39mnumpy\u001b[39;00m \u001b[39mas\u001b[39;00m \u001b[39mnp\u001b[39;00m\n\u001b[1;32m----> 2\u001b[0m soma_elementos \u001b[39m=\u001b[39m np\u001b[39m.\u001b[39msum(dados_novo)\n\u001b[0;32m      3\u001b[0m \u001b[39mprint\u001b[39m(soma_elementos)\n",
      "\u001b[1;31mNameError\u001b[0m: name 'dados_novo' is not defined"
     ]
    }
   ],
   "source": [
    "import numpy as np\n",
    "soma_elementos = np.sum(dados_novo)\n",
    "print(soma_elementos)"
   ]
  },
  {
   "cell_type": "code",
   "execution_count": null,
   "metadata": {},
   "outputs": [],
   "source": [
    "valores_minimos_por_linha = np.min(dados_novo, axis=1)\n",
    "print(\"Valores minimos em cada linha da matriz\",valores_minimos_por_linha )\n",
    "\n"
   ]
  },
  {
   "cell_type": "code",
   "execution_count": null,
   "metadata": {},
   "outputs": [],
   "source": [
    "medias_por_coluna = np.mean(dados_novo, axis=0)\n",
    "print(\"Média de cada coluna da matriz,\", medias_por_coluna)"
   ]
  },
  {
   "cell_type": "code",
   "execution_count": null,
   "metadata": {},
   "outputs": [],
   "source": [
    "matriz_transposta = np.transpose(dados_novo)\n",
    "matriz_transposta"
   ]
  },
  {
   "cell_type": "code",
   "execution_count": 3,
   "metadata": {},
   "outputs": [
    {
     "data": {
      "text/html": [
       "<div>\n",
       "<style scoped>\n",
       "    .dataframe tbody tr th:only-of-type {\n",
       "        vertical-align: middle;\n",
       "    }\n",
       "\n",
       "    .dataframe tbody tr th {\n",
       "        vertical-align: top;\n",
       "    }\n",
       "\n",
       "    .dataframe thead th {\n",
       "        text-align: right;\n",
       "    }\n",
       "</style>\n",
       "<table border=\"1\" class=\"dataframe\">\n",
       "  <thead>\n",
       "    <tr style=\"text-align: right;\">\n",
       "      <th></th>\n",
       "      <th>Temperatura Processo [K]</th>\n",
       "      <th>Velocidade Rotacao [rpm]</th>\n",
       "    </tr>\n",
       "  </thead>\n",
       "  <tbody>\n",
       "    <tr>\n",
       "      <th>0</th>\n",
       "      <td>308.6</td>\n",
       "      <td>1551</td>\n",
       "    </tr>\n",
       "    <tr>\n",
       "      <th>1</th>\n",
       "      <td>308.7</td>\n",
       "      <td>1408</td>\n",
       "    </tr>\n",
       "    <tr>\n",
       "      <th>2</th>\n",
       "      <td>308.5</td>\n",
       "      <td>1498</td>\n",
       "    </tr>\n",
       "    <tr>\n",
       "      <th>3</th>\n",
       "      <td>308.6</td>\n",
       "      <td>1433</td>\n",
       "    </tr>\n",
       "    <tr>\n",
       "      <th>4</th>\n",
       "      <td>308.7</td>\n",
       "      <td>1408</td>\n",
       "    </tr>\n",
       "    <tr>\n",
       "      <th>...</th>\n",
       "      <td>...</td>\n",
       "      <td>...</td>\n",
       "    </tr>\n",
       "    <tr>\n",
       "      <th>9995</th>\n",
       "      <td>308.4</td>\n",
       "      <td>1604</td>\n",
       "    </tr>\n",
       "    <tr>\n",
       "      <th>9996</th>\n",
       "      <td>308.4</td>\n",
       "      <td>1632</td>\n",
       "    </tr>\n",
       "    <tr>\n",
       "      <th>9997</th>\n",
       "      <td>308.6</td>\n",
       "      <td>1645</td>\n",
       "    </tr>\n",
       "    <tr>\n",
       "      <th>9998</th>\n",
       "      <td>308.7</td>\n",
       "      <td>1408</td>\n",
       "    </tr>\n",
       "    <tr>\n",
       "      <th>9999</th>\n",
       "      <td>308.7</td>\n",
       "      <td>1500</td>\n",
       "    </tr>\n",
       "  </tbody>\n",
       "</table>\n",
       "<p>10000 rows × 2 columns</p>\n",
       "</div>"
      ],
      "text/plain": [
       "      Temperatura Processo [K]  Velocidade Rotacao [rpm]\n",
       "0                        308.6                      1551\n",
       "1                        308.7                      1408\n",
       "2                        308.5                      1498\n",
       "3                        308.6                      1433\n",
       "4                        308.7                      1408\n",
       "...                        ...                       ...\n",
       "9995                     308.4                      1604\n",
       "9996                     308.4                      1632\n",
       "9997                     308.6                      1645\n",
       "9998                     308.7                      1408\n",
       "9999                     308.7                      1500\n",
       "\n",
       "[10000 rows x 2 columns]"
      ]
     },
     "execution_count": 3,
     "metadata": {},
     "output_type": "execute_result"
    }
   ],
   "source": [
    "# Selecionar data frame 1 : Temperatura do ar e torque\n",
    "# Selecionar data frame 2 : Temperatura do processo e velocidade de rotação\n",
    "\n",
    "# 1\n",
    "dados1 = dados[['Temperatura Ar [K]', 'Torque [Nm]']]\n",
    "dados1\n",
    "\n",
    "dados2 = dados[['Temperatura Processo [K]','Velocidade Rotacao [rpm]']]\n",
    "dados2\n",
    "\n",
    "\n",
    "\n"
   ]
  },
  {
   "cell_type": "code",
   "execution_count": 4,
   "metadata": {},
   "outputs": [
    {
     "data": {
      "text/html": [
       "<div>\n",
       "<style scoped>\n",
       "    .dataframe tbody tr th:only-of-type {\n",
       "        vertical-align: middle;\n",
       "    }\n",
       "\n",
       "    .dataframe tbody tr th {\n",
       "        vertical-align: top;\n",
       "    }\n",
       "\n",
       "    .dataframe thead th {\n",
       "        text-align: right;\n",
       "    }\n",
       "</style>\n",
       "<table border=\"1\" class=\"dataframe\">\n",
       "  <thead>\n",
       "    <tr style=\"text-align: right;\">\n",
       "      <th></th>\n",
       "      <th>Temperatura Processo [K]</th>\n",
       "      <th>Velocidade Rotacao [rpm]</th>\n",
       "    </tr>\n",
       "  </thead>\n",
       "  <tbody>\n",
       "    <tr>\n",
       "      <th>15</th>\n",
       "      <td>309.2</td>\n",
       "      <td>1542</td>\n",
       "    </tr>\n",
       "    <tr>\n",
       "      <th>16</th>\n",
       "      <td>309.2</td>\n",
       "      <td>1311</td>\n",
       "    </tr>\n",
       "    <tr>\n",
       "      <th>17</th>\n",
       "      <td>309.2</td>\n",
       "      <td>1410</td>\n",
       "    </tr>\n",
       "    <tr>\n",
       "      <th>18</th>\n",
       "      <td>309.2</td>\n",
       "      <td>1306</td>\n",
       "    </tr>\n",
       "    <tr>\n",
       "      <th>19</th>\n",
       "      <td>309.3</td>\n",
       "      <td>1632</td>\n",
       "    </tr>\n",
       "    <tr>\n",
       "      <th>20</th>\n",
       "      <td>309.3</td>\n",
       "      <td>1375</td>\n",
       "    </tr>\n",
       "    <tr>\n",
       "      <th>21</th>\n",
       "      <td>309.3</td>\n",
       "      <td>1450</td>\n",
       "    </tr>\n",
       "    <tr>\n",
       "      <th>22</th>\n",
       "      <td>309.3</td>\n",
       "      <td>1581</td>\n",
       "    </tr>\n",
       "    <tr>\n",
       "      <th>23</th>\n",
       "      <td>309.4</td>\n",
       "      <td>1758</td>\n",
       "    </tr>\n",
       "    <tr>\n",
       "      <th>24</th>\n",
       "      <td>309.4</td>\n",
       "      <td>1561</td>\n",
       "    </tr>\n",
       "  </tbody>\n",
       "</table>\n",
       "</div>"
      ],
      "text/plain": [
       "    Temperatura Processo [K]  Velocidade Rotacao [rpm]\n",
       "15                     309.2                      1542\n",
       "16                     309.2                      1311\n",
       "17                     309.2                      1410\n",
       "18                     309.2                      1306\n",
       "19                     309.3                      1632\n",
       "20                     309.3                      1375\n",
       "21                     309.3                      1450\n",
       "22                     309.3                      1581\n",
       "23                     309.4                      1758\n",
       "24                     309.4                      1561"
      ]
     },
     "execution_count": 4,
     "metadata": {},
     "output_type": "execute_result"
    }
   ],
   "source": [
    "# 2\n",
    "dados1.head(10)\n",
    "dados2.iloc[15:25]"
   ]
  },
  {
   "cell_type": "code",
   "execution_count": 5,
   "metadata": {},
   "outputs": [],
   "source": [
    "\n",
    "# 3\n",
    "dados1 = dados1.head(10).values\n",
    "dados2 = dados2.iloc[15:25].values\n"
   ]
  },
  {
   "cell_type": "code",
   "execution_count": null,
   "metadata": {},
   "outputs": [],
   "source": [
    "pip install numpy"
   ]
  },
  {
   "cell_type": "code",
   "execution_count": 10,
   "metadata": {},
   "outputs": [],
   "source": [
    "import numpy as np"
   ]
  },
  {
   "cell_type": "code",
   "execution_count": 13,
   "metadata": {},
   "outputs": [
    {
     "name": "stdout",
     "output_type": "stream",
     "text": [
      "3381.0\n",
      "18018.8\n"
     ]
    }
   ],
   "source": [
    "# 4\n",
    "\n",
    "soma_elementos1 = np.sum(dados1)\n",
    "soma_elementos2 = np.sum(dados2)\n",
    "\n",
    "print(soma_elementos1)\n",
    "print(soma_elementos2)"
   ]
  },
  {
   "cell_type": "code",
   "execution_count": null,
   "metadata": {},
   "outputs": [],
   "source": [
    "# 5\n",
    "\n",
    "min1 = np.min(dados1, axis=0)\n",
    "print(min1)\n",
    "max1 = np.max(dados1, axis=0)\n",
    "print(max1)\n",
    "\n",
    "min2 = np.min(dados2, axis=0)\n",
    "print(min2)\n",
    "max2 = np.max(dados2, axis=0)\n",
    "print(max2)"
   ]
  },
  {
   "cell_type": "code",
   "execution_count": 19,
   "metadata": {},
   "outputs": [
    {
     "name": "stdout",
     "output_type": "stream",
     "text": [
      "[298.19  39.91]\n",
      "[ 309.28 1492.6 ]\n"
     ]
    }
   ],
   "source": [
    "\n",
    "# 6\n",
    "media1 = np.mean(dados1, axis=0)\n",
    "print(media1)\n",
    "\n",
    "media2 = np.mean(dados2, axis=0)\n",
    "print(media2)"
   ]
  },
  {
   "cell_type": "code",
   "execution_count": 23,
   "metadata": {},
   "outputs": [
    {
     "name": "stdout",
     "output_type": "stream",
     "text": [
      "[[298.1 298.2 298.1 298.2 298.2 298.1 298.1 298.1 298.3 298.5]\n",
      " [ 42.8  46.3  49.4  39.5  40.   41.9  42.4  40.2  28.6  28. ]]\n",
      "[[ 309.2  309.2  309.2  309.2  309.3  309.3  309.3  309.3  309.4  309.4]\n",
      " [1542.  1311.  1410.  1306.  1632.  1375.  1450.  1581.  1758.  1561. ]]\n"
     ]
    }
   ],
   "source": [
    "# 7\n",
    "\n",
    "matriz_transposta1 = np.transpose(dados1)\n",
    "print(matriz_transposta1)\n",
    "\n",
    "matriz_transposta2 = np.transpose(dados2)\n",
    "print(matriz_transposta2)\n",
    "\n",
    "\n",
    "\n"
   ]
  },
  {
   "cell_type": "code",
   "execution_count": 25,
   "metadata": {},
   "outputs": [
    {
     "name": "stdout",
     "output_type": "stream",
     "text": [
      "[170.45 172.25 173.75 168.85 169.1  170.   170.25 169.15 163.45 163.25]\n",
      "[ 925.6   810.1   859.6   807.6   970.65  842.15  879.65  945.15 1033.7\n",
      "  935.2 ]\n"
     ]
    }
   ],
   "source": [
    "# 8\n",
    "\n",
    "media_transposta1 = np.mean(matriz_transposta1, axis=0)\n",
    "print(media_transposta1)\n",
    "\n",
    "media_transposta2 = np.mean(matriz_transposta2, axis=0)\n",
    "print(media_transposta2)\n",
    "\n"
   ]
  }
 ],
 "metadata": {
  "kernelspec": {
   "display_name": "Python 3",
   "language": "python",
   "name": "python3"
  },
  "language_info": {
   "codemirror_mode": {
    "name": "ipython",
    "version": 3
   },
   "file_extension": ".py",
   "mimetype": "text/x-python",
   "name": "python",
   "nbconvert_exporter": "python",
   "pygments_lexer": "ipython3",
   "version": "3.11.4"
  },
  "orig_nbformat": 4
 },
 "nbformat": 4,
 "nbformat_minor": 2
}
