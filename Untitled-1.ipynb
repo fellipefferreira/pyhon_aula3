{
 "cells": [
  {
   "cell_type": "code",
   "execution_count": 1,
   "metadata": {},
   "outputs": [
    {
     "name": "stdout",
     "output_type": "stream",
     "text": [
      "Requirement already satisfied: pandas in c:\\python311\\lib\\site-packages (2.2.1)\n",
      "Requirement already satisfied: numpy<2,>=1.23.2 in c:\\python311\\lib\\site-packages (from pandas) (1.26.4)\n",
      "Requirement already satisfied: python-dateutil>=2.8.2 in c:\\python311\\lib\\site-packages (from pandas) (2.8.2)\n",
      "Requirement already satisfied: pytz>=2020.1 in c:\\python311\\lib\\site-packages (from pandas) (2024.1)\n",
      "Requirement already satisfied: tzdata>=2022.7 in c:\\python311\\lib\\site-packages (from pandas) (2024.1)\n",
      "Requirement already satisfied: six>=1.5 in c:\\python311\\lib\\site-packages (from python-dateutil>=2.8.2->pandas) (1.16.0)\n",
      "Note: you may need to restart the kernel to use updated packages.\n"
     ]
    },
    {
     "name": "stderr",
     "output_type": "stream",
     "text": [
      "\n",
      "[notice] A new release of pip is available: 23.1.2 -> 24.0\n",
      "[notice] To update, run: python.exe -m pip install --upgrade pip\n"
     ]
    }
   ],
   "source": [
    "pip install pandas\n"
   ]
  },
  {
   "cell_type": "code",
   "execution_count": 2,
   "metadata": {},
   "outputs": [],
   "source": [
    "import pandas as pd"
   ]
  },
  {
   "cell_type": "code",
   "execution_count": 3,
   "metadata": {},
   "outputs": [],
   "source": [
    "# Aula parecida com o checkpoint"
   ]
  },
  {
   "cell_type": "code",
   "execution_count": 4,
   "metadata": {},
   "outputs": [
    {
     "name": "stdout",
     "output_type": "stream",
     "text": [
      "Requirement already satisfied: numpy in c:\\python311\\lib\\site-packages (1.26.4)\n",
      "Note: you may need to restart the kernel to use updated packages.\n"
     ]
    },
    {
     "name": "stderr",
     "output_type": "stream",
     "text": [
      "\n",
      "[notice] A new release of pip is available: 23.1.2 -> 24.0\n",
      "[notice] To update, run: python.exe -m pip install --upgrade pip\n"
     ]
    }
   ],
   "source": [
    "pip install numpy"
   ]
  },
  {
   "cell_type": "code",
   "execution_count": 5,
   "metadata": {},
   "outputs": [],
   "source": [
    "import numpy as np"
   ]
  },
  {
   "cell_type": "code",
   "execution_count": 6,
   "metadata": {},
   "outputs": [
    {
     "data": {
      "text/plain": [
       "array([ 1,  2,  3,  4,  5,  6,  7,  8,  9, 10])"
      ]
     },
     "execution_count": 6,
     "metadata": {},
     "output_type": "execute_result"
    }
   ],
   "source": [
    "array = np.array([1,2,3,4,5,6,7,8,9,10])\n",
    "array"
   ]
  },
  {
   "cell_type": "code",
   "execution_count": 7,
   "metadata": {},
   "outputs": [],
   "source": [
    "lista = [1,2,3,4,5,6,7,8,9,10]\n",
    "tupla = (1,2,3,4,5,6,7,8,9,10)\n",
    "\n",
    "df_series = pd.Series(tupla)"
   ]
  },
  {
   "cell_type": "code",
   "execution_count": 8,
   "metadata": {},
   "outputs": [
    {
     "data": {
      "text/plain": [
       "array([ 1,  2,  3,  4,  5,  6,  7,  8,  9, 10])"
      ]
     },
     "execution_count": 8,
     "metadata": {},
     "output_type": "execute_result"
    }
   ],
   "source": [
    "# 1 Crie numpy array com numeros de 1 a 10\n",
    "\n",
    "array_sequencia =np.array([1,2,3,4,5,6,7,8,9,10])\n",
    "\n",
    "array_sequencia"
   ]
  },
  {
   "cell_type": "code",
   "execution_count": 9,
   "metadata": {},
   "outputs": [
    {
     "name": "stdout",
     "output_type": "stream",
     "text": [
      "A soma é: [ 7  9 11 13 15]\n"
     ]
    }
   ],
   "source": [
    "# 2 Some dois numpy com numeros de 1 a 5 e outro de 6 a 10\n",
    "\n",
    "array1 =np.array([1,2,3,4,5])\n",
    "array2 =np.array([6,7,8,9,10])\n",
    "\n",
    "soma = array1 + array2\n",
    "print(\"A soma é:\", soma)"
   ]
  },
  {
   "cell_type": "code",
   "execution_count": 10,
   "metadata": {},
   "outputs": [
    {
     "data": {
      "text/plain": [
       "array([ 6,  7,  8,  9, 10])"
      ]
     },
     "execution_count": 10,
     "metadata": {},
     "output_type": "execute_result"
    }
   ],
   "source": [
    "# Filtragem\n",
    "\n",
    "array_maior_5 = array_sequencia[array_sequencia>5]\n",
    "array_maior_5"
   ]
  },
  {
   "cell_type": "code",
   "execution_count": 11,
   "metadata": {},
   "outputs": [
    {
     "name": "stdout",
     "output_type": "stream",
     "text": [
      "Média: 3.0\n",
      "Desvio padrao: 1.4142135623730951\n"
     ]
    }
   ],
   "source": [
    "# Média\n",
    "\n",
    "array =np.array([1,2,3,4,5])\n",
    "\n",
    "\n",
    "print(\"Média:\", array.mean())\n",
    "print(\"Desvio padrao:\", array.std()) \n"
   ]
  },
  {
   "cell_type": "code",
   "execution_count": 12,
   "metadata": {},
   "outputs": [
    {
     "data": {
      "text/plain": [
       "array([ 1,  2,  3,  4,  5,  6,  7,  8,  9, 10])"
      ]
     },
     "execution_count": 12,
     "metadata": {},
     "output_type": "execute_result"
    }
   ],
   "source": [
    "# Concatenação\n",
    "\n",
    "array1 =np.array([1,2,3,4,5])\n",
    "array2 =np.array([6,7,8,9,10])\n",
    "\n",
    "arr_concat = np.concatenate([array1,array2])\n",
    "arr_concat"
   ]
  },
  {
   "cell_type": "code",
   "execution_count": 14,
   "metadata": {},
   "outputs": [
    {
     "name": "stdout",
     "output_type": "stream",
     "text": [
      "Resultado: [-9 -7 -5 -3 -1  1  3  5  7  9]\n"
     ]
    }
   ],
   "source": [
    "# Exercicio de subtração\n",
    "\n",
    "array10 = np.arange(1,11)\n",
    "array10_1 = np.arange(10,0,-1)\n",
    "resultado = array10 - array10_1\n",
    "print(\"Resultado:\", resultado)\n",
    "\n"
   ]
  },
  {
   "cell_type": "code",
   "execution_count": 15,
   "metadata": {},
   "outputs": [
    {
     "data": {
      "text/plain": [
       "array([10,  9,  8,  7,  6,  5,  4,  3,  2,  1])"
      ]
     },
     "execution_count": 15,
     "metadata": {},
     "output_type": "execute_result"
    }
   ],
   "source": [
    "#  Exercicio de orednação\n",
    "\n",
    "arr1 = np.arange(1,11)\n",
    "arr_ordenado = np.sort(arr1)[::-1] # o numero 1 é padrão \n",
    "arr_ordenado"
   ]
  },
  {
   "cell_type": "code",
   "execution_count": 16,
   "metadata": {},
   "outputs": [
    {
     "name": "stdout",
     "output_type": "stream",
     "text": [
      "Valores Duplicados: True\n"
     ]
    }
   ],
   "source": [
    "arr = np.array([0,4,2,6,5,9,6])\n",
    "print(\"Valores Duplicados:\", np.unique(arr).size != arr.size)"
   ]
  },
  {
   "cell_type": "code",
   "execution_count": 17,
   "metadata": {},
   "outputs": [
    {
     "name": "stdout",
     "output_type": "stream",
     "text": [
      "Slicing do terceiro ao setimo elemento\n",
      "[2 6 5 9 6]\n"
     ]
    }
   ],
   "source": [
    "print(\"Slicing do terceiro ao setimo elemento\")\n",
    "print(arr[2:7])"
   ]
  },
  {
   "cell_type": "code",
   "execution_count": 18,
   "metadata": {},
   "outputs": [
    {
     "name": "stdout",
     "output_type": "stream",
     "text": [
      "[0 4 2 6 5]\n"
     ]
    }
   ],
   "source": [
    "# slicing antes do quinto elemento\n",
    "\n",
    "print(arr[:5])"
   ]
  },
  {
   "cell_type": "code",
   "execution_count": 19,
   "metadata": {},
   "outputs": [
    {
     "name": "stdout",
     "output_type": "stream",
     "text": [
      "{'João': 85, 'Maria': 90, 'Pedro': 88}\n",
      "90\n",
      "85\n"
     ]
    }
   ],
   "source": [
    "notas = {'João':85, 'Maria':90, 'Pedro':88}\n",
    "print(notas)\n",
    "print(notas['Maria'])\n",
    "print(notas['João'])"
   ]
  },
  {
   "cell_type": "code",
   "execution_count": 20,
   "metadata": {},
   "outputs": [
    {
     "data": {
      "text/plain": [
       "{'joão': {'matematica': 90, 'portugues': 85, 'ciencias': 88},\n",
       " 'maria': {'matematica': 95, 'portugues': 92, 'ciencias': 89},\n",
       " 'pedro': {'matematica': 80, 'portugues': 75, 'ciencias': 82}}"
      ]
     },
     "execution_count": 20,
     "metadata": {},
     "output_type": "execute_result"
    }
   ],
   "source": [
    "notas_alunos = {\n",
    "    'joão':{'matematica':90, \"portugues\":85, 'ciencias':88},\n",
    "    'maria':{'matematica':95, \"portugues\":92, 'ciencias':89},\n",
    "    'pedro':{'matematica':80, \"portugues\":75, 'ciencias':82}\n",
    "}\n",
    "notas_alunos"
   ]
  },
  {
   "cell_type": "code",
   "execution_count": 21,
   "metadata": {},
   "outputs": [
    {
     "data": {
      "text/plain": [
       "95"
      ]
     },
     "execution_count": 21,
     "metadata": {},
     "output_type": "execute_result"
    }
   ],
   "source": [
    "nota_maria_matematica = notas_alunos['maria']['matematica']\n",
    "nota_maria_matematica"
   ]
  },
  {
   "cell_type": "code",
   "execution_count": 22,
   "metadata": {},
   "outputs": [
    {
     "data": {
      "text/plain": [
       "{'joão': {'matematica': 90, 'portugues': 85, 'ciencias': 88},\n",
       " 'maria': {'matematica': 95, 'portugues': 92, 'ciencias': 89},\n",
       " 'pedro': {'matematica': 80, 'portugues': 75, 'ciencias': 82},\n",
       " 'ana': {'matematica': 88, 'portugues': 91, 'ciencias': 85}}"
      ]
     },
     "execution_count": 22,
     "metadata": {},
     "output_type": "execute_result"
    }
   ],
   "source": [
    "notas_alunos['ana'] = {'matematica':88, 'portugues':91,'ciencias':85}\n",
    "notas_alunos"
   ]
  },
  {
   "cell_type": "code",
   "execution_count": 23,
   "metadata": {},
   "outputs": [
    {
     "data": {
      "text/html": [
       "<div>\n",
       "<style scoped>\n",
       "    .dataframe tbody tr th:only-of-type {\n",
       "        vertical-align: middle;\n",
       "    }\n",
       "\n",
       "    .dataframe tbody tr th {\n",
       "        vertical-align: top;\n",
       "    }\n",
       "\n",
       "    .dataframe thead th {\n",
       "        text-align: right;\n",
       "    }\n",
       "</style>\n",
       "<table border=\"1\" class=\"dataframe\">\n",
       "  <thead>\n",
       "    <tr style=\"text-align: right;\">\n",
       "      <th></th>\n",
       "      <th>joão</th>\n",
       "      <th>maria</th>\n",
       "      <th>pedro</th>\n",
       "      <th>ana</th>\n",
       "    </tr>\n",
       "  </thead>\n",
       "  <tbody>\n",
       "    <tr>\n",
       "      <th>matematica</th>\n",
       "      <td>90</td>\n",
       "      <td>95</td>\n",
       "      <td>80</td>\n",
       "      <td>88</td>\n",
       "    </tr>\n",
       "    <tr>\n",
       "      <th>portugues</th>\n",
       "      <td>85</td>\n",
       "      <td>92</td>\n",
       "      <td>75</td>\n",
       "      <td>91</td>\n",
       "    </tr>\n",
       "    <tr>\n",
       "      <th>ciencias</th>\n",
       "      <td>88</td>\n",
       "      <td>89</td>\n",
       "      <td>82</td>\n",
       "      <td>85</td>\n",
       "    </tr>\n",
       "  </tbody>\n",
       "</table>\n",
       "</div>"
      ],
      "text/plain": [
       "            joão  maria  pedro  ana\n",
       "matematica    90     95     80   88\n",
       "portugues     85     92     75   91\n",
       "ciencias      88     89     82   85"
      ]
     },
     "execution_count": 23,
     "metadata": {},
     "output_type": "execute_result"
    }
   ],
   "source": [
    "df = pd.DataFrame(notas_alunos)\n",
    "df"
   ]
  },
  {
   "cell_type": "code",
   "execution_count": 24,
   "metadata": {},
   "outputs": [
    {
     "data": {
      "text/plain": [
       "95"
      ]
     },
     "execution_count": 24,
     "metadata": {},
     "output_type": "execute_result"
    }
   ],
   "source": [
    "nota_maria_matematica"
   ]
  },
  {
   "cell_type": "code",
   "execution_count": 25,
   "metadata": {},
   "outputs": [
    {
     "data": {
      "text/html": [
       "<div>\n",
       "<style scoped>\n",
       "    .dataframe tbody tr th:only-of-type {\n",
       "        vertical-align: middle;\n",
       "    }\n",
       "\n",
       "    .dataframe tbody tr th {\n",
       "        vertical-align: top;\n",
       "    }\n",
       "\n",
       "    .dataframe thead th {\n",
       "        text-align: right;\n",
       "    }\n",
       "</style>\n",
       "<table border=\"1\" class=\"dataframe\">\n",
       "  <thead>\n",
       "    <tr style=\"text-align: right;\">\n",
       "      <th></th>\n",
       "      <th>joão</th>\n",
       "      <th>maria</th>\n",
       "      <th>pedro</th>\n",
       "      <th>ana</th>\n",
       "    </tr>\n",
       "  </thead>\n",
       "  <tbody>\n",
       "    <tr>\n",
       "      <th>matematica</th>\n",
       "      <td>90</td>\n",
       "      <td>95</td>\n",
       "      <td>80</td>\n",
       "      <td>88</td>\n",
       "    </tr>\n",
       "    <tr>\n",
       "      <th>portugues</th>\n",
       "      <td>85</td>\n",
       "      <td>92</td>\n",
       "      <td>75</td>\n",
       "      <td>91</td>\n",
       "    </tr>\n",
       "    <tr>\n",
       "      <th>ciencias</th>\n",
       "      <td>88</td>\n",
       "      <td>89</td>\n",
       "      <td>82</td>\n",
       "      <td>85</td>\n",
       "    </tr>\n",
       "  </tbody>\n",
       "</table>\n",
       "</div>"
      ],
      "text/plain": [
       "            joão  maria  pedro  ana\n",
       "matematica    90     95     80   88\n",
       "portugues     85     92     75   91\n",
       "ciencias      88     89     82   85"
      ]
     },
     "execution_count": 25,
     "metadata": {},
     "output_type": "execute_result"
    }
   ],
   "source": [
    "import pandas as pd\n",
    "\n",
    "df = pd.DataFrame(notas_alunos)\n",
    "df"
   ]
  },
  {
   "cell_type": "code",
   "execution_count": 26,
   "metadata": {},
   "outputs": [
    {
     "data": {
      "text/html": [
       "<div>\n",
       "<style scoped>\n",
       "    .dataframe tbody tr th:only-of-type {\n",
       "        vertical-align: middle;\n",
       "    }\n",
       "\n",
       "    .dataframe tbody tr th {\n",
       "        vertical-align: top;\n",
       "    }\n",
       "\n",
       "    .dataframe thead th {\n",
       "        text-align: right;\n",
       "    }\n",
       "</style>\n",
       "<table border=\"1\" class=\"dataframe\">\n",
       "  <thead>\n",
       "    <tr style=\"text-align: right;\">\n",
       "      <th></th>\n",
       "      <th>joão</th>\n",
       "      <th>maria</th>\n",
       "      <th>pedro</th>\n",
       "      <th>ana</th>\n",
       "    </tr>\n",
       "  </thead>\n",
       "  <tbody>\n",
       "    <tr>\n",
       "      <th>matematica</th>\n",
       "      <td>90</td>\n",
       "      <td>95</td>\n",
       "      <td>80</td>\n",
       "      <td>88</td>\n",
       "    </tr>\n",
       "    <tr>\n",
       "      <th>portugues</th>\n",
       "      <td>85</td>\n",
       "      <td>92</td>\n",
       "      <td>75</td>\n",
       "      <td>91</td>\n",
       "    </tr>\n",
       "    <tr>\n",
       "      <th>ciencias</th>\n",
       "      <td>88</td>\n",
       "      <td>89</td>\n",
       "      <td>82</td>\n",
       "      <td>85</td>\n",
       "    </tr>\n",
       "  </tbody>\n",
       "</table>\n",
       "</div>"
      ],
      "text/plain": [
       "            joão  maria  pedro  ana\n",
       "matematica    90     95     80   88\n",
       "portugues     85     92     75   91\n",
       "ciencias      88     89     82   85"
      ]
     },
     "execution_count": 26,
     "metadata": {},
     "output_type": "execute_result"
    }
   ],
   "source": [
    "df"
   ]
  },
  {
   "cell_type": "code",
   "execution_count": 27,
   "metadata": {},
   "outputs": [
    {
     "data": {
      "text/plain": [
       "matematica    90\n",
       "portugues     85\n",
       "ciencias      88\n",
       "Name: joão, dtype: int64"
      ]
     },
     "execution_count": 27,
     "metadata": {},
     "output_type": "execute_result"
    }
   ],
   "source": [
    "df = pd.DataFrame(notas_alunos)\n",
    "df['joão']"
   ]
  },
  {
   "cell_type": "code",
   "execution_count": 28,
   "metadata": {},
   "outputs": [
    {
     "data": {
      "text/html": [
       "<div>\n",
       "<style scoped>\n",
       "    .dataframe tbody tr th:only-of-type {\n",
       "        vertical-align: middle;\n",
       "    }\n",
       "\n",
       "    .dataframe tbody tr th {\n",
       "        vertical-align: top;\n",
       "    }\n",
       "\n",
       "    .dataframe thead th {\n",
       "        text-align: right;\n",
       "    }\n",
       "</style>\n",
       "<table border=\"1\" class=\"dataframe\">\n",
       "  <thead>\n",
       "    <tr style=\"text-align: right;\">\n",
       "      <th></th>\n",
       "      <th>joão</th>\n",
       "      <th>maria</th>\n",
       "    </tr>\n",
       "  </thead>\n",
       "  <tbody>\n",
       "    <tr>\n",
       "      <th>matematica</th>\n",
       "      <td>90</td>\n",
       "      <td>95</td>\n",
       "    </tr>\n",
       "    <tr>\n",
       "      <th>portugues</th>\n",
       "      <td>85</td>\n",
       "      <td>92</td>\n",
       "    </tr>\n",
       "    <tr>\n",
       "      <th>ciencias</th>\n",
       "      <td>88</td>\n",
       "      <td>89</td>\n",
       "    </tr>\n",
       "  </tbody>\n",
       "</table>\n",
       "</div>"
      ],
      "text/plain": [
       "            joão  maria\n",
       "matematica    90     95\n",
       "portugues     85     92\n",
       "ciencias      88     89"
      ]
     },
     "execution_count": 28,
     "metadata": {},
     "output_type": "execute_result"
    }
   ],
   "source": [
    "dados_dois_alunos = df.loc[:,['joão', 'maria']]\n",
    "dados_dois_alunos"
   ]
  },
  {
   "cell_type": "code",
   "execution_count": 29,
   "metadata": {},
   "outputs": [
    {
     "data": {
      "text/plain": [
       "DatetimeIndex(['2024-01-01', '2024-02-01', '2024-03-01'], dtype='datetime64[ns]', freq=None)"
      ]
     },
     "execution_count": 29,
     "metadata": {},
     "output_type": "execute_result"
    }
   ],
   "source": [
    "datas = ['01-01-2024', '01-02-2024', '01-03-2024']\n",
    "datas_formatadas = pd.to_datetime(datas,format='%d-%m-%Y')\n",
    "datas_formatadas"
   ]
  },
  {
   "cell_type": "code",
   "execution_count": 30,
   "metadata": {},
   "outputs": [
    {
     "data": {
      "text/html": [
       "<div>\n",
       "<style scoped>\n",
       "    .dataframe tbody tr th:only-of-type {\n",
       "        vertical-align: middle;\n",
       "    }\n",
       "\n",
       "    .dataframe tbody tr th {\n",
       "        vertical-align: top;\n",
       "    }\n",
       "\n",
       "    .dataframe thead th {\n",
       "        text-align: right;\n",
       "    }\n",
       "</style>\n",
       "<table border=\"1\" class=\"dataframe\">\n",
       "  <thead>\n",
       "    <tr style=\"text-align: right;\">\n",
       "      <th></th>\n",
       "      <th>joão</th>\n",
       "      <th>maria</th>\n",
       "      <th>pedro</th>\n",
       "      <th>ana</th>\n",
       "      <th>data</th>\n",
       "    </tr>\n",
       "  </thead>\n",
       "  <tbody>\n",
       "    <tr>\n",
       "      <th>matematica</th>\n",
       "      <td>90</td>\n",
       "      <td>95</td>\n",
       "      <td>80</td>\n",
       "      <td>88</td>\n",
       "      <td>2024-01-01</td>\n",
       "    </tr>\n",
       "    <tr>\n",
       "      <th>portugues</th>\n",
       "      <td>85</td>\n",
       "      <td>92</td>\n",
       "      <td>75</td>\n",
       "      <td>91</td>\n",
       "      <td>2024-02-01</td>\n",
       "    </tr>\n",
       "    <tr>\n",
       "      <th>ciencias</th>\n",
       "      <td>88</td>\n",
       "      <td>89</td>\n",
       "      <td>82</td>\n",
       "      <td>85</td>\n",
       "      <td>2024-03-01</td>\n",
       "    </tr>\n",
       "  </tbody>\n",
       "</table>\n",
       "</div>"
      ],
      "text/plain": [
       "            joão  maria  pedro  ana       data\n",
       "matematica    90     95     80   88 2024-01-01\n",
       "portugues     85     92     75   91 2024-02-01\n",
       "ciencias      88     89     82   85 2024-03-01"
      ]
     },
     "execution_count": 30,
     "metadata": {},
     "output_type": "execute_result"
    }
   ],
   "source": [
    "df['data'] = datas_formatadas\n",
    "df"
   ]
  },
  {
   "cell_type": "code",
   "execution_count": 31,
   "metadata": {},
   "outputs": [],
   "source": [
    "df.to_csv('exemplo11.csv')"
   ]
  },
  {
   "cell_type": "code",
   "execution_count": null,
   "metadata": {},
   "outputs": [],
   "source": [
    "arr = np.array([0,4,2,6,5,9,6])\n",
    "\n",
    "valores_duplicados = np.unique(arr,return_counts = True)\n",
    "indices_duplicados = np.where(valores_duplicados[1] > 1)[0]\n",
    "valores_duplicados[0][indices]"
   ]
  },
  {
   "cell_type": "code",
   "execution_count": null,
   "metadata": {},
   "outputs": [],
   "source": [
    "# Produto,Mês,Vendas\n",
    "# Celular,01-01-2023,150\n",
    "# Celular, 01-02-2023,180\n",
    "# Celular, 01-03-2023,200\n",
    "# Tablet, 01-01-2023,100\n",
    "# Tablet, 01-02-2023,120\n",
    "# Tablet, 01-03-2023,130\n",
    "# Notebook, 01-01-2023,80\n",
    "# Notebook, 01-02-2023,90\n",
    "# Notebook, 01-03-2023,100"
   ]
  },
  {
   "cell_type": "code",
   "execution_count": 68,
   "metadata": {},
   "outputs": [
    {
     "data": {
      "text/plain": [
       "Index(['Produto', 'Mes', 'Vendas'], dtype='object')"
      ]
     },
     "execution_count": 68,
     "metadata": {},
     "output_type": "execute_result"
    }
   ],
   "source": [
    "dados_desafio = {\n",
    "    'Produto':['celular','celular','celular','Tablet','Tablet','Tablet','Notebook','Notebook','Notebook'],\n",
    "    'Mes':['01-01-2023','01-02-2023','01-03-2023','01-01-2023','01-02-2023','01-03-2023','01-01-2023','01-02-2023','01-03-2023'],\n",
    "    'Vendas':[150,180,200,100,120,130,80,90,100]\n",
    "}\n",
    "dados_desafio\n",
    "df = pd.DataFrame(dados_desafio)\n",
    "df.columns\n",
    "    \n"
   ]
  },
  {
   "cell_type": "code",
   "execution_count": 48,
   "metadata": {},
   "outputs": [
    {
     "data": {
      "text/plain": [
       "0     celular\n",
       "1     celular\n",
       "2     celular\n",
       "3      Tablet\n",
       "4      Tablet\n",
       "5      Tablet\n",
       "6    Notebook\n",
       "7    Notebook\n",
       "8    Notebook\n",
       "Name: Produto, dtype: object"
      ]
     },
     "execution_count": 48,
     "metadata": {},
     "output_type": "execute_result"
    }
   ],
   "source": [
    "df['Produto']"
   ]
  },
  {
   "cell_type": "code",
   "execution_count": 69,
   "metadata": {},
   "outputs": [],
   "source": [
    "df['Mes'] = pd.to_datetime(df['Mes'], format='%d-%m-%Y')\n",
    "df['Ano'] = df['Mes'].dt.year\n",
    "df['Mes'] = df['Mes'].dt.month\n",
    "vendas_series = pd.Series(df['Vendas'].values,index=df['Mes'])"
   ]
  },
  {
   "cell_type": "code",
   "execution_count": 54,
   "metadata": {},
   "outputs": [],
   "source": [
    "vendas_series = pd.Series(df['Vendas'].values,index=df['Mes'])"
   ]
  },
  {
   "cell_type": "code",
   "execution_count": 55,
   "metadata": {},
   "outputs": [
    {
     "data": {
      "text/plain": [
       "Produto\n",
       "Notebook    270\n",
       "Tablet      350\n",
       "celular     530\n",
       "Name: Vendas, dtype: int64"
      ]
     },
     "execution_count": 55,
     "metadata": {},
     "output_type": "execute_result"
    }
   ],
   "source": [
    "produto_mais_vendido = df.groupby('Produto')['Vendas'].sum()\n",
    "produto_mais_vendido\n",
    "\n"
   ]
  },
  {
   "cell_type": "code",
   "execution_count": 57,
   "metadata": {},
   "outputs": [
    {
     "data": {
      "text/plain": [
       "200"
      ]
     },
     "execution_count": 57,
     "metadata": {},
     "output_type": "execute_result"
    }
   ],
   "source": [
    "media_vendas = vendas_series.mean()\n",
    "mediana_vendas = vendas_series.median()\n",
    "min_vendas = vendas_series.min()\n",
    "max_vendas = vendas_series.max()\n",
    "\n",
    "\n"
   ]
  },
  {
   "cell_type": "code",
   "execution_count": null,
   "metadata": {},
   "outputs": [],
   "source": [
    "pip install matplotlib"
   ]
  },
  {
   "cell_type": "code",
   "execution_count": 71,
   "metadata": {},
   "outputs": [
    {
     "data": {
      "text/plain": [
       "<Figure size 1000x600 with 0 Axes>"
      ]
     },
     "metadata": {},
     "output_type": "display_data"
    },
    {
     "data": {
      "image/png": "[encoded data removed]",
      "text/plain": [
       "<Figure size 640x480 with 1 Axes>"
      ]
     },
     "metadata": {},
     "output_type": "display_data"
    }
   ],
   "source": [
    "import matplotlib.pyplot as plt\n",
    "\n",
    "df_grouped = df.groupby(['Mes', 'Produto'])['Vendas'].sum().unstack()\n",
    "\n",
    "plt.figure(figsize=(10, 6))\n",
    "df_grouped.plot(kind='bar', stacked=False)\n",
    "                \n",
    "plt.title(\"Vendas por Produto ao longo do Tempo\")\n",
    "plt.xlabel(\"Mês\")\n",
    "plt.ylabel(\"Vendas\")\n",
    "plt.xticks(rotation=45)\n",
    "plt.legend(title='Produto')\n",
    "plt.grid(axis='y')\n",
    "plt.tight_layout()\n",
    "plt.show()\n"
   ]
  }
 ],
 "metadata": {
  "kernelspec": {
   "display_name": "Python 3",
   "language": "python",
   "name": "python3"
  },
  "language_info": {
   "codemirror_mode": {
    "name": "ipython",
    "version": 3
   },
   "file_extension": ".py",
   "mimetype": "text/x-python",
   "name": "python",
   "nbconvert_exporter": "python",
   "pygments_lexer": "ipython3",
   "version": "3.11.4"
  },
  "orig_nbformat": 4
 },
 "nbformat": 4,
 "nbformat_minor": 2
}
