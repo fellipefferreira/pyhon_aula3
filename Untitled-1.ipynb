{
 "cells": [
  {
   "cell_type": "code",
   "execution_count": null,
   "metadata": {},
   "outputs": [],
   "source": [
    "pip install pandas\n"
   ]
  },
  {
   "cell_type": "code",
   "execution_count": null,
   "metadata": {},
   "outputs": [],
   "source": [
    "import pandas as pd"
   ]
  },
  {
   "cell_type": "code",
   "execution_count": null,
   "metadata": {},
   "outputs": [],
   "source": [
    "# Aula parecida com o checkpoint"
   ]
  },
  {
   "cell_type": "code",
   "execution_count": null,
   "metadata": {},
   "outputs": [],
   "source": [
    "pip install numpy"
   ]
  },
  {
   "cell_type": "code",
   "execution_count": null,
   "metadata": {},
   "outputs": [],
   "source": [
    "import numpy as np"
   ]
  },
  {
   "cell_type": "code",
   "execution_count": null,
   "metadata": {},
   "outputs": [],
   "source": [
    "array = np.array([1,2,3,4,5,6,7,8,9,10])\n",
    "array"
   ]
  },
  {
   "cell_type": "code",
   "execution_count": null,
   "metadata": {},
   "outputs": [],
   "source": [
    "lista = [1,2,3,4,5,6,7,8,9,10]\n",
    "tupla = (1,2,3,4,5,6,7,8,9,10)\n",
    "\n",
    "df_series = pd.Series(tupla)"
   ]
  },
  {
   "cell_type": "code",
   "execution_count": null,
   "metadata": {},
   "outputs": [],
   "source": [
    "# 1 Crie numpy array com numeros de 1 a 10\n",
    "\n",
    "array_sequencia =np.array([1,2,3,4,5,6,7,8,9,10])\n",
    "\n",
    "array_sequencia"
   ]
  },
  {
   "cell_type": "code",
   "execution_count": null,
   "metadata": {},
   "outputs": [],
   "source": [
    "# 2 Some dois numpy com numeros de 1 a 5 e outro de 6 a 10\n",
    "\n",
    "array1 =np.array([1,2,3,4,5])\n",
    "array2 =np.array([6,7,8,9,10])\n",
    "\n",
    "soma = array1 + array2\n",
    "print(\"A soma é:\", soma)"
   ]
  },
  {
   "cell_type": "code",
   "execution_count": null,
   "metadata": {},
   "outputs": [],
   "source": [
    "# Filtragem\n",
    "\n",
    "array_maior_5 = array_sequencia[array_sequencia>5]\n",
    "array_maior_5"
   ]
  },
  {
   "cell_type": "code",
   "execution_count": null,
   "metadata": {},
   "outputs": [],
   "source": [
    "# Média\n",
    "\n",
    "array =np.array([1,2,3,4,5])\n",
    "\n",
    "\n",
    "print(\"Média:\", array.mean())\n",
    "print(\"Desvio padrao:\", array.std()) \n"
   ]
  },
  {
   "cell_type": "code",
   "execution_count": null,
   "metadata": {},
   "outputs": [],
   "source": [
    "# Concatenação\n",
    "\n",
    "array1 =np.array([1,2,3,4,5])\n",
    "array2 =np.array([6,7,8,9,10])\n",
    "\n",
    "arr_concat = np.concatenate([array1,array2])\n",
    "arr_concat"
   ]
  },
  {
   "cell_type": "code",
   "execution_count": null,
   "metadata": {},
   "outputs": [],
   "source": [
    "# Exercicio de subtração\n",
    "\n",
    "array10 = np.arange(1,11)\n",
    "array10_1 = np.arange(10,0,-1)\n",
    "resultado = array10 - array10_1\n",
    "print(\"Resultado:\", resultado)\n",
    "\n"
   ]
  },
  {
   "cell_type": "code",
   "execution_count": null,
   "metadata": {},
   "outputs": [],
   "source": [
    "#  Exercicio de orednação\n",
    "\n",
    "arr1 = np.arange(1,11)\n",
    "arr_ordenado = np.sort(arr1)[::-1] # o numero 1 é padrão \n",
    "arr_ordenado"
   ]
  },
  {
   "cell_type": "code",
   "execution_count": null,
   "metadata": {},
   "outputs": [],
   "source": [
    "arr = np.array([0,4,2,6,5,9,6])\n",
    "print(\"Valores Duplicados:\", np.unique(arr).size != arr.size)"
   ]
  },
  {
   "cell_type": "code",
   "execution_count": null,
   "metadata": {},
   "outputs": [],
   "source": [
    "print(\"Slicing do terceiro ao setimo elemento\")\n",
    "print(arr[2:7])"
   ]
  },
  {
   "cell_type": "code",
   "execution_count": null,
   "metadata": {},
   "outputs": [],
   "source": [
    "# slicing antes do quinto elemento\n",
    "\n",
    "print(arr[:5])"
   ]
  },
  {
   "cell_type": "code",
   "execution_count": null,
   "metadata": {},
   "outputs": [],
   "source": [
    "notas = {'João':85, 'Maria':90, 'Pedro':88}\n",
    "print(notas)\n",
    "print(notas['Maria'])\n",
    "print(notas['João'])"
   ]
  },
  {
   "cell_type": "code",
   "execution_count": null,
   "metadata": {},
   "outputs": [],
   "source": [
    "notas_alunos = {\n",
    "    'joão':{'matematica':90, \"portugues\":85, 'ciencias':88},\n",
    "    'maria':{'matematica':95, \"portugues\":92, 'ciencias':89},\n",
    "    'pedro':{'matematica':80, \"portugues\":75, 'ciencias':82}\n",
    "}\n",
    "notas_alunos"
   ]
  },
  {
   "cell_type": "code",
   "execution_count": null,
   "metadata": {},
   "outputs": [],
   "source": [
    "nota_maria_matematica = notas_alunos['maria']['matematica']\n",
    "nota_maria_matematica"
   ]
  },
  {
   "cell_type": "code",
   "execution_count": null,
   "metadata": {},
   "outputs": [],
   "source": [
    "notas_alunos['ana'] = {'matematica':88, 'portugues':91,'ciencias':85}\n",
    "notas_alunos"
   ]
  },
  {
   "cell_type": "code",
   "execution_count": null,
   "metadata": {},
   "outputs": [],
   "source": [
    "df = pd.DataFrame(notas_alunos)\n",
    "df"
   ]
  },
  {
   "cell_type": "code",
   "execution_count": null,
   "metadata": {},
   "outputs": [],
   "source": [
    "nota_maria_matematica"
   ]
  },
  {
   "cell_type": "code",
   "execution_count": null,
   "metadata": {},
   "outputs": [],
   "source": [
    "import pandas as pd\n",
    "\n",
    "df = pd.DataFrame(notas_alunos)\n",
    "df"
   ]
  },
  {
   "cell_type": "code",
   "execution_count": null,
   "metadata": {},
   "outputs": [],
   "source": [
    "df"
   ]
  },
  {
   "cell_type": "code",
   "execution_count": null,
   "metadata": {},
   "outputs": [],
   "source": [
    "df = pd.DataFrame(notas_alunos)\n",
    "df['joão']"
   ]
  },
  {
   "cell_type": "code",
   "execution_count": null,
   "metadata": {},
   "outputs": [],
   "source": [
    "dados_dois_alunos = df.loc[:,['joão', 'maria']]\n",
    "dados_dois_alunos"
   ]
  },
  {
   "cell_type": "code",
   "execution_count": null,
   "metadata": {},
   "outputs": [],
   "source": [
    "datas = ['01-01-2024', '01-02-2024', '01-03-2024']\n",
    "datas_formatadas = pd.to_datetime(datas,format='%d-%m-%Y')\n",
    "datas_formatadas"
   ]
  },
  {
   "cell_type": "code",
   "execution_count": null,
   "metadata": {},
   "outputs": [],
   "source": [
    "df['data'] = datas_formatadas\n",
    "df"
   ]
  },
  {
   "cell_type": "code",
   "execution_count": null,
   "metadata": {},
   "outputs": [],
   "source": [
    "df.to_csv('exemplo11.csv')"
   ]
  },
  {
   "cell_type": "code",
   "execution_count": null,
   "metadata": {},
   "outputs": [],
   "source": [
    "arr = np.array([0,4,2,6,5,9,6])\n",
    "\n",
    "valores_duplicados = np.unique(arr,return_counts = True)\n",
    "indices_duplicados = np.where(valores_duplicados[1] > 1)[0]\n",
    "valores_duplicados[0][indices]"
   ]
  },
  {
   "cell_type": "code",
   "execution_count": null,
   "metadata": {},
   "outputs": [],
   "source": [
    "# Produto,Mês,Vendas\n",
    "# Celular,01-01-2023,150\n",
    "# Celular, 01-02-2023,180\n",
    "# Celular, 01-03-2023,200\n",
    "# Tablet, 01-01-2023,100\n",
    "# Tablet, 01-02-2023,120\n",
    "# Tablet, 01-03-2023,130\n",
    "# Notebook, 01-01-2023,80\n",
    "# Notebook, 01-02-2023,90\n",
    "# Notebook, 01-03-2023,100"
   ]
  },
  {
   "cell_type": "code",
   "execution_count": null,
   "metadata": {},
   "outputs": [],
   "source": [
    "dados_desafio = {\n",
    "    'Produto':['celular','celular','celular','Tablet','Tablet','Tablet','Notebook','Notebook','Notebook'],\n",
    "    'Mes':['01-01-2023','01-02-2023','01-03-2023','01-01-2023','01-02-2023','01-03-2023','01-01-2023','01-02-2023','01-03-2023'],\n",
    "    'Vendas':[150,180,200,100,120,130,80,90,100]\n",
    "}\n",
    "dados_desafio\n",
    "df = pd.DataFrame(dados_desafio)\n",
    "df.columns\n",
    "    \n"
   ]
  },
  {
   "cell_type": "code",
   "execution_count": null,
   "metadata": {},
   "outputs": [],
   "source": [
    "df['Produto']"
   ]
  },
  {
   "cell_type": "code",
   "execution_count": null,
   "metadata": {},
   "outputs": [],
   "source": [
    "df['Mes'] = pd.to_datetime(df['Mes'], format='%d-%m-%Y')\n",
    "df['Ano'] = df['Mes'].dt.year\n",
    "df['Mes'] = df['Mes'].dt.month\n",
    "vendas_series = pd.Series(df['Vendas'].values,index=df['Mes'])"
   ]
  },
  {
   "cell_type": "code",
   "execution_count": null,
   "metadata": {},
   "outputs": [],
   "source": [
    "vendas_series = pd.Series(df['Vendas'].values,index=df['Mes'])"
   ]
  },
  {
   "cell_type": "code",
   "execution_count": null,
   "metadata": {},
   "outputs": [],
   "source": [
    "produto_mais_vendido = df.groupby('Produto')['Vendas'].sum()\n",
    "produto_mais_vendido\n",
    "\n"
   ]
  },
  {
   "cell_type": "code",
   "execution_count": null,
   "metadata": {},
   "outputs": [],
   "source": [
    "media_vendas = vendas_series.mean()\n",
    "mediana_vendas = vendas_series.median()\n",
    "min_vendas = vendas_series.min()\n",
    "max_vendas = vendas_series.max()\n",
    "\n",
    "\n"
   ]
  },
  {
   "cell_type": "code",
   "execution_count": null,
   "metadata": {},
   "outputs": [],
   "source": [
    "pip install matplotlib"
   ]
  },
  {
   "cell_type": "code",
   "execution_count": null,
   "metadata": {},
   "outputs": [],
   "source": [
    "import matplotlib.pyplot as plt\n",
    "\n",
    "df_grouped = df.groupby(['Mes', 'Produto'])['Vendas'].sum().unstack()\n",
    "\n",
    "plt.figure(figsize=(10, 6))\n",
    "df_grouped.plot(kind='bar', stacked=False)\n",
    "                \n",
    "plt.title(\"Vendas por Produto ao longo do Tempo\")\n",
    "plt.xlabel(\"Mês\")\n",
    "plt.ylabel(\"Vendas\")\n",
    "plt.xticks(rotation=45)\n",
    "plt.legend(title='Produto')\n",
    "plt.grid(axis='y')\n",
    "plt.tight_layout()\n",
    "plt.show()\n"
   ]
  },
  {
   "cell_type": "code",
   "execution_count": null,
   "metadata": {},
   "outputs": [],
   "source": [
    "df['Variação Percentual'] = df.groupby('Produto')['Vendas'].pct_change()\n",
    "df\n",
    "\n",
    "\n"
   ]
  },
  {
   "cell_type": "code",
   "execution_count": null,
   "metadata": {},
   "outputs": [],
   "source": [
    "mes_maior_variacao = df.loc[df['Variação Percentual'].idxmax()]['Mes']\n",
    "mes_menor_variacao = df.loc[df['Variação Percentual'].idxmin()]['Mes']\n",
    "mes_maior_variacao\n",
    "\n"
   ]
  },
  {
   "cell_type": "code",
   "execution_count": null,
   "metadata": {},
   "outputs": [],
   "source": [
    "# data\tProduto\tQuantidade\n",
    "# 1/1/2024\tAr Frio\t100\n",
    "# 1/2/2024\tAr Frio\t120\n",
    "# 1/3/2024\tAr Frio\t130\n",
    "# 1/4/2024\tAr Frio\t110\n",
    "# 1/5/2024\tAr Frio\t150\n",
    "# 1/1/2024\tVentilador\t150\n",
    "# 1/2/2024\tVentilador\t140\n",
    "# 1/3/2024\tVentilador\t160\n",
    "# 1/4/2024\tVentilador\t130\n",
    "# 1/5/2024\tVentilador\t170\n",
    "# 1/1/2024\tAr Quente\t80\n",
    "# 1/2/2024\tAr Quente\t90\n",
    "# 1/3/2024\tAr Quente\t100\n",
    "# 1/4/2024\tAr Quente\t85\n",
    "# 1/5/2024\tAr Quente\t95\n"
   ]
  },
  {
   "cell_type": "code",
   "execution_count": 4,
   "metadata": {},
   "outputs": [],
   "source": [
    "import pandas as pd\n",
    "\n",
    "tabela = {\n",
    "    'Produto':['Ar Frio','Ar Frio','Ar Frio','Ar Frio','Ar Frio','Ventilador','Ventilador','Ventilador','Ventilador','Ventilador','Ar Quente','Ar Quente','Ar Quente','Ar Quente','Ar Quente'],\n",
    "    'Quantidade':[100,120,130,110,150,150,140,160,130,170,80,90,100,85,95],\n",
    "    'Data':['1-1-2024','1-2-2024','1-3-2024','1-4-2024','1-5-2024','1-1-2024','1-2-2024','1-3-2024','1-4-2024','1-5-2024','1-1-2024','1-2-2024','1-3-2024','1-4-2024','1-5-2024']\n",
    "}\n",
    "\n",
    "\n",
    "\n"
   ]
  },
  {
   "cell_type": "code",
   "execution_count": null,
   "metadata": {},
   "outputs": [],
   "source": [
    "df = pd.DataFrame(tabela)\n",
    "df"
   ]
  },
  {
   "cell_type": "code",
   "execution_count": 8,
   "metadata": {},
   "outputs": [],
   "source": [
    "df.to_csv('Batata.csv')"
   ]
  },
  {
   "cell_type": "code",
   "execution_count": 10,
   "metadata": {},
   "outputs": [
    {
     "ename": "SyntaxError",
     "evalue": "(unicode error) 'unicodeescape' codec can't decode bytes in position 2-3: truncated \\UXXXXXXXX escape (1785072221.py, line 1)",
     "output_type": "error",
     "traceback": [
      "\u001b[1;36m  Cell \u001b[1;32mIn[10], line 1\u001b[1;36m\u001b[0m\n\u001b[1;33m    dados = pd.read_csv('C:\\Users\\logonrmlocal\\Desktop\\python\\Batata.csv')\u001b[0m\n\u001b[1;37m                                                                         ^\u001b[0m\n\u001b[1;31mSyntaxError\u001b[0m\u001b[1;31m:\u001b[0m (unicode error) 'unicodeescape' codec can't decode bytes in position 2-3: truncated \\UXXXXXXXX escape\n"
     ]
    }
   ],
   "source": [
    "dados = pd.read_csv('C:\\Users\\logonrmlocal\\Desktop\\python\\Batata.csv')"
   ]
  }
 ],
 "metadata": {
  "kernelspec": {
   "display_name": "Python 3",
   "language": "python",
   "name": "python3"
  },
  "language_info": {
   "codemirror_mode": {
    "name": "ipython",
    "version": 3
   },
   "file_extension": ".py",
   "mimetype": "text/x-python",
   "name": "python",
   "nbconvert_exporter": "python",
   "pygments_lexer": "ipython3",
   "version": "3.11.4"
  },
  "orig_nbformat": 4
 },
 "nbformat": 4,
 "nbformat_minor": 2
}
